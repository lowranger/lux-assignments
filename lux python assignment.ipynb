{
 "cells": [
  {
   "cell_type": "code",
   "execution_count": 46,
   "id": "7865d628",
   "metadata": {},
   "outputs": [],
   "source": [
    "a = {2,4,6,8,10} # even numbers\n",
    "b = {3,8,11,12} #\n",
    "c = {2,3,6,8,9,11}\n",
    "u = set(range(1,13)) # positive integers"
   ]
  },
  {
   "cell_type": "code",
   "execution_count": 47,
   "id": "b775a445",
   "metadata": {},
   "outputs": [
    {
     "data": {
      "text/plain": [
       "set"
      ]
     },
     "execution_count": 47,
     "metadata": {},
     "output_type": "execute_result"
    }
   ],
   "source": [
    "type(u)"
   ]
  },
  {
   "cell_type": "code",
   "execution_count": 48,
   "id": "d5d5cd5d",
   "metadata": {},
   "outputs": [
    {
     "name": "stdout",
     "output_type": "stream",
     "text": [
      "{2, 3, 4, 6, 8, 10, 11, 12}\n"
     ]
    }
   ],
   "source": [
    "ans_1 = a.union(b)\n",
    "print(ans_1)"
   ]
  },
  {
   "cell_type": "code",
   "execution_count": 49,
   "id": "1abf532e",
   "metadata": {},
   "outputs": [
    {
     "name": "stdout",
     "output_type": "stream",
     "text": [
      "{8, 2, 6}\n"
     ]
    }
   ],
   "source": [
    "ans_2= a.intersection(c)\n",
    "print(ans_2)"
   ]
  },
  {
   "cell_type": "code",
   "execution_count": 50,
   "id": "bac19803",
   "metadata": {},
   "outputs": [
    {
     "name": "stdout",
     "output_type": "stream",
     "text": [
      "{1, 3, 5, 7, 9, 11, 12}\n"
     ]
    }
   ],
   "source": [
    "ans_3= u-a\n",
    "print(ans_3)"
   ]
  },
  {
   "cell_type": "code",
   "execution_count": 51,
   "id": "b3e00778",
   "metadata": {},
   "outputs": [
    {
     "name": "stdout",
     "output_type": "stream",
     "text": [
      "{1, 2, 4, 5, 6, 7, 9, 10}\n"
     ]
    }
   ],
   "source": [
    "ans_4 = u-b\n",
    "print(ans_4)"
   ]
  },
  {
   "cell_type": "code",
   "execution_count": 52,
   "id": "81a0306f",
   "metadata": {},
   "outputs": [
    {
     "name": "stdout",
     "output_type": "stream",
     "text": [
      "{1, 5, 9, 7}\n"
     ]
    }
   ],
   "source": [
    "ans_5= u- ans_1\n",
    "print(ans_5)"
   ]
  },
  {
   "cell_type": "code",
   "execution_count": 53,
   "id": "047f7922",
   "metadata": {},
   "outputs": [
    {
     "name": "stdout",
     "output_type": "stream",
     "text": [
      "{12}\n"
     ]
    }
   ],
   "source": [
    "ans_6= b & (u-c)\n",
    "print(ans_6)"
   ]
  },
  {
   "cell_type": "code",
   "execution_count": 54,
   "id": "9e926ed4",
   "metadata": {},
   "outputs": [
    {
     "name": "stdout",
     "output_type": "stream",
     "text": [
      "{2, 10, 4, 6}\n"
     ]
    }
   ],
   "source": [
    "ans_7= a- b\n",
    "print(ans_7)"
   ]
  },
  {
   "cell_type": "code",
   "execution_count": 55,
   "id": "d7ea11d4",
   "metadata": {},
   "outputs": [
    {
     "name": "stdout",
     "output_type": "stream",
     "text": [
      "{8, 9, 2, 6}\n"
     ]
    }
   ],
   "source": [
    "\n",
    "ans_8= c-(b-a)\n",
    "print(ans_8)"
   ]
  },
  {
   "cell_type": "code",
   "execution_count": 56,
   "id": "5f18b440",
   "metadata": {},
   "outputs": [
    {
     "name": "stdout",
     "output_type": "stream",
     "text": [
      "{2, 6, 8, 9}\n"
     ]
    }
   ],
   "source": [
    "ans_9 = ans_2.union(c-b)\n",
    "print(ans_9)"
   ]
  },
  {
   "cell_type": "markdown",
   "id": "e04ad6fc",
   "metadata": {},
   "source": [
    "#### inclusion and exclusion principle\n"
   ]
  },
  {
   "cell_type": "code",
   "execution_count": 57,
   "id": "4848654e",
   "metadata": {},
   "outputs": [
    {
     "name": "stdout",
     "output_type": "stream",
     "text": [
      "{2, 3, 4, 6, 8, 9, 10, 11, 12}\n"
     ]
    }
   ],
   "source": [
    "left_hand_eq = a.union(b).union(c)\n",
    "print(left_hand_eq)"
   ]
  },
  {
   "cell_type": "code",
   "execution_count": 58,
   "id": "c0353d24",
   "metadata": {},
   "outputs": [
    {
     "name": "stdout",
     "output_type": "stream",
     "text": [
      "{4, 8, 9, 10, 12}\n"
     ]
    }
   ],
   "source": [
    "right_hand_eq= a.union(b).union(c).difference(a & b).difference(a & c).difference(b & c).union(a & b & c)\n",
    "\n",
    "print(right_hand_eq)"
   ]
  },
  {
   "cell_type": "code",
   "execution_count": 59,
   "id": "c0b7c989",
   "metadata": {},
   "outputs": [
    {
     "name": "stdout",
     "output_type": "stream",
     "text": [
      "{4, 8, 9, 10, 12}\n"
     ]
    }
   ],
   "source": [
    "right_hand_eq = ((a | b | c)- ((a & b) | (a & c) | (b & c)) | (a & b & c))\n",
    "\n",
    "print(right_hand_eq)"
   ]
  },
  {
   "cell_type": "markdown",
   "id": "d804f947",
   "metadata": {},
   "source": []
  },
  {
   "cell_type": "markdown",
   "id": "7cd44332",
   "metadata": {},
   "source": [
    "##### set operstions\n"
   ]
  },
  {
   "cell_type": "code",
   "execution_count": 60,
   "id": "75b5a4aa",
   "metadata": {},
   "outputs": [],
   "source": [
    "Nina = {\"Cat\", \"Dog\", \"Rabbit\", \"Donkey\", \"Parrot\", \"Goldfish\"}\n",
    "Mary = {\"Dog\", \"Chinchilla\", \"Horse\", \"Chicken\"}\n",
    "Eve = {\"Rabbit\", \"Turtle\", \"Goldfish\"}"
   ]
  },
  {
   "cell_type": "code",
   "execution_count": 61,
   "id": "09504c11",
   "metadata": {},
   "outputs": [
    {
     "name": "stdout",
     "output_type": "stream",
     "text": [
      "{'Rabbit', 'Goldfish'}\n"
     ]
    }
   ],
   "source": [
    "Eve.remove(\"Turtle\")\n",
    "print(Eve)"
   ]
  },
  {
   "cell_type": "code",
   "execution_count": 63,
   "id": "3e84572d",
   "metadata": {},
   "outputs": [
    {
     "name": "stdout",
     "output_type": "stream",
     "text": [
      "{'Rabbit', 'Chinchilla', 'Dog', 'Chicken', 'Horse', 'Goldfish', 'Donkey', 'Cat', 'Parrot'}\n"
     ]
    }
   ],
   "source": [
    "Nina.update(Mary)\n",
    "print(Nina)"
   ]
  },
  {
   "cell_type": "code",
   "execution_count": 65,
   "id": "04f03ea9",
   "metadata": {},
   "outputs": [
    {
     "name": "stdout",
     "output_type": "stream",
     "text": [
      "set()\n"
     ]
    }
   ],
   "source": [
    "Mary.clear()\n",
    "print(Mary)"
   ]
  },
  {
   "cell_type": "code",
   "execution_count": 67,
   "id": "404f287e",
   "metadata": {},
   "outputs": [
    {
     "name": "stdout",
     "output_type": "stream",
     "text": [
      "9\n"
     ]
    }
   ],
   "source": [
    "n_species_Nina=len(Nina)\n",
    "print(n_species_Nina)"
   ]
  },
  {
   "cell_type": "code",
   "execution_count": 69,
   "id": "8e935567",
   "metadata": {},
   "outputs": [
    {
     "name": "stdout",
     "output_type": "stream",
     "text": [
      "{'Chinchilla', 'Dog', 'Chicken', 'Horse', 'Donkey', 'Cat', 'Parrot'}\n"
     ]
    }
   ],
   "source": [
    "Nina.difference_update(Nina&Eve)\n",
    "print(Nina)"
   ]
  },
  {
   "cell_type": "markdown",
   "id": "99756914",
   "metadata": {},
   "source": [
    "#### writing down elements in a set"
   ]
  },
  {
   "cell_type": "code",
   "execution_count": null,
   "id": "cd21f11c",
   "metadata": {},
   "outputs": [
    {
     "name": "stdout",
     "output_type": "stream",
     "text": [
      "{('R', 'R', 'R'), ('L', 'L', 'L'), ('S', 'S', 'S')}\n"
     ]
    }
   ],
   "source": [
    "#set a all same direction\n",
    "a ={('L', 'L', 'L'), ('S', 'S', 'S'), ('R', 'R', 'R')}\n",
    "print(a)"
   ]
  },
  {
   "cell_type": "code",
   "execution_count": 74,
   "id": "42aa6c42",
   "metadata": {},
   "outputs": [
    {
     "name": "stdout",
     "output_type": "stream",
     "text": [
      "{('S', 'L', 'R'), ('L', 'S', 'R'), ('L', 'R', 'S'), ('S', 'R', 'L'), ('R', 'S', 'L'), ('R', 'L', 'S')}\n"
     ]
    }
   ],
   "source": [
    "#set b - all diffent\n",
    "b = {('L', 'S', 'R'), ('L', 'R', 'S'), ('S', 'L', 'R'),('S', 'R', 'L'), ('R', 'L', 'S'), ('R', 'S', 'L')}\n",
    "print(b)"
   ]
  },
  {
   "cell_type": "code",
   "execution_count": 76,
   "id": "29778161",
   "metadata": {},
   "outputs": [
    {
     "name": "stdout",
     "output_type": "stream",
     "text": [
      "{('R', 'L', 'R'), ('R', 'S', 'R'), ('R', 'R', 'L'), ('S', 'R', 'R'), ('L', 'R', 'R'), ('R', 'R', 'S')}\n"
     ]
    }
   ],
   "source": [
    "#set c- exactly 2 right\n",
    "c= {('R', 'R', 'L'), ('R', 'R', 'S'), ('R', 'L', 'R'),('S', 'R', 'R'), ('L', 'R', 'R'), ('R', 'S', 'R')}\n",
    "print(c)\n"
   ]
  },
  {
   "cell_type": "code",
   "execution_count": null,
   "id": "6e4b720f",
   "metadata": {},
   "outputs": [
    {
     "name": "stdout",
     "output_type": "stream",
     "text": [
      "{('R', 'L', 'R'), ('S', 'S', 'L'), ('L', 'S', 'S'), ('L', 'R', 'L'), ('L', 'L', 'R'), ('S', 'R', 'R'), ('R', 'S', 'S'), ('L', 'S', 'L'), ('R', 'R', 'S'), ('S', 'S', 'R'), ('R', 'S', 'R'), ('L', 'L', 'S'), ('R', 'L', 'L'), ('L', 'R', 'R'), ('S', 'L', 'S'), ('S', 'R', 'S'), ('R', 'R', 'L'), ('S', 'L', 'L')}\n"
     ]
    }
   ],
   "source": [
    "d= {\n",
    "    ('L', 'L', 'S'), ('L', 'S', 'L'), ('S', 'L', 'L'),\n",
    "    ('L', 'L', 'R'), ('L', 'R', 'L'), ('R', 'L', 'L'),\n",
    "\n",
    "    ('S', 'S', 'L'), ('S', 'L', 'S'), ('L', 'S', 'S'),\n",
    "    ('S', 'S', 'R'), ('S', 'R', 'S'), ('R', 'S', 'S'),\n",
    "\n",
    "    ('R', 'R', 'L'), ('R', 'L', 'R'), ('L', 'R', 'R'),\n",
    "    ('R', 'R', 'S'), ('R', 'S', 'R'), ('S', 'R', 'R')\n",
    "}\n",
    "print(d)"
   ]
  },
  {
   "cell_type": "code",
   "execution_count": 82,
   "id": "7891dce2",
   "metadata": {},
   "outputs": [],
   "source": [
    "import pandas as pd\n",
    "europe = pd.read_excel(r'C:\\Users\\HP\\python lux\\Europe_and_EU.xlsx', sheet_name= 'Europe')\n",
    "eu = pd.read_excel(r'C:\\Users\\HP\\python lux\\Europe_and_EU.xlsx', sheet_name = 'EU')"
   ]
  },
  {
   "cell_type": "markdown",
   "id": "fead232f",
   "metadata": {},
   "source": []
  },
  {
   "cell_type": "code",
   "execution_count": 83,
   "id": "16c1f5b0",
   "metadata": {},
   "outputs": [
    {
     "data": {
      "text/html": [
       "<div>\n",
       "<style scoped>\n",
       "    .dataframe tbody tr th:only-of-type {\n",
       "        vertical-align: middle;\n",
       "    }\n",
       "\n",
       "    .dataframe tbody tr th {\n",
       "        vertical-align: top;\n",
       "    }\n",
       "\n",
       "    .dataframe thead th {\n",
       "        text-align: right;\n",
       "    }\n",
       "</style>\n",
       "<table border=\"1\" class=\"dataframe\">\n",
       "  <thead>\n",
       "    <tr style=\"text-align: right;\">\n",
       "      <th></th>\n",
       "      <th>Rank</th>\n",
       "      <th>Country</th>\n",
       "      <th>Population</th>\n",
       "      <th>% of population</th>\n",
       "      <th>Average relative annual growth (%)</th>\n",
       "      <th>Average absolute annual growth</th>\n",
       "      <th>Estimated doubling time (Years)</th>\n",
       "      <th>Official figure (where available)</th>\n",
       "      <th>Date of last figure</th>\n",
       "      <th>Regional grouping</th>\n",
       "      <th>Source</th>\n",
       "    </tr>\n",
       "  </thead>\n",
       "  <tbody>\n",
       "    <tr>\n",
       "      <th>0</th>\n",
       "      <td>1.0</td>\n",
       "      <td>Russia</td>\n",
       "      <td>143964709</td>\n",
       "      <td>17.15</td>\n",
       "      <td>0.19</td>\n",
       "      <td>294285</td>\n",
       "      <td>368</td>\n",
       "      <td>146839993</td>\n",
       "      <td>2017-01-01 00:00:00</td>\n",
       "      <td>EAEU</td>\n",
       "      <td>[1]</td>\n",
       "    </tr>\n",
       "    <tr>\n",
       "      <th>1</th>\n",
       "      <td>2.0</td>\n",
       "      <td>Germany</td>\n",
       "      <td>82521653</td>\n",
       "      <td>9.80</td>\n",
       "      <td>1.20</td>\n",
       "      <td>600000</td>\n",
       "      <td>90</td>\n",
       "      <td>82800000</td>\n",
       "      <td>2016-12-31 00:00:00</td>\n",
       "      <td>EU</td>\n",
       "      <td>Official estimate</td>\n",
       "    </tr>\n",
       "    <tr>\n",
       "      <th>2</th>\n",
       "      <td>3.0</td>\n",
       "      <td>Turkey</td>\n",
       "      <td>80810000</td>\n",
       "      <td>9.60</td>\n",
       "      <td>1.34</td>\n",
       "      <td>1035000</td>\n",
       "      <td>52</td>\n",
       "      <td>77695904</td>\n",
       "      <td>2016-12-31 00:00:00</td>\n",
       "      <td>NaN</td>\n",
       "      <td>[2]</td>\n",
       "    </tr>\n",
       "  </tbody>\n",
       "</table>\n",
       "</div>"
      ],
      "text/plain": [
       "   Rank    Country  Population  % of population  \\\n",
       "0   1.0     Russia   143964709            17.15   \n",
       "1   2.0   Germany     82521653             9.80   \n",
       "2   3.0    Turkey     80810000             9.60   \n",
       "\n",
       "   Average relative annual growth (%)  Average absolute annual growth  \\\n",
       "0                                0.19                          294285   \n",
       "1                                1.20                          600000   \n",
       "2                                1.34                         1035000   \n",
       "\n",
       "  Estimated doubling time (Years)  Official figure (where available)  \\\n",
       "0                             368                          146839993   \n",
       "1                              90                           82800000   \n",
       "2                              52                           77695904   \n",
       "\n",
       "   Date of last figure Regional grouping             Source  \n",
       "0  2017-01-01 00:00:00             EAEU                 [1]  \n",
       "1  2016-12-31 00:00:00               EU   Official estimate  \n",
       "2  2016-12-31 00:00:00               NaN                [2]  "
      ]
     },
     "execution_count": 83,
     "metadata": {},
     "output_type": "execute_result"
    }
   ],
   "source": [
    "europe.head(3)"
   ]
  },
  {
   "cell_type": "code",
   "execution_count": 85,
   "id": "752f4dbf",
   "metadata": {},
   "outputs": [
    {
     "data": {
      "text/html": [
       "<div>\n",
       "<style scoped>\n",
       "    .dataframe tbody tr th:only-of-type {\n",
       "        vertical-align: middle;\n",
       "    }\n",
       "\n",
       "    .dataframe tbody tr th {\n",
       "        vertical-align: top;\n",
       "    }\n",
       "\n",
       "    .dataframe thead th {\n",
       "        text-align: right;\n",
       "    }\n",
       "</style>\n",
       "<table border=\"1\" class=\"dataframe\">\n",
       "  <thead>\n",
       "    <tr style=\"text-align: right;\">\n",
       "      <th></th>\n",
       "      <th>Rank</th>\n",
       "      <th>Country</th>\n",
       "      <th>2017 population</th>\n",
       "      <th>% of pop.</th>\n",
       "      <th>Average relative annual growth</th>\n",
       "      <th>Average absolute annual growth</th>\n",
       "      <th>Official figure</th>\n",
       "      <th>Date of last figure</th>\n",
       "      <th>Source</th>\n",
       "    </tr>\n",
       "  </thead>\n",
       "  <tbody>\n",
       "    <tr>\n",
       "      <th>0</th>\n",
       "      <td>1</td>\n",
       "      <td>Germany</td>\n",
       "      <td>82800000</td>\n",
       "      <td>16.18</td>\n",
       "      <td>0.76</td>\n",
       "      <td>628876</td>\n",
       "      <td>82576900</td>\n",
       "      <td>2017-03-31</td>\n",
       "      <td>Official estimate</td>\n",
       "    </tr>\n",
       "    <tr>\n",
       "      <th>1</th>\n",
       "      <td>2</td>\n",
       "      <td>France</td>\n",
       "      <td>67210459</td>\n",
       "      <td>13.10</td>\n",
       "      <td>0.40</td>\n",
       "      <td>265557</td>\n",
       "      <td>67174000</td>\n",
       "      <td>2018-01-01</td>\n",
       "      <td>Monthly official estimate</td>\n",
       "    </tr>\n",
       "    <tr>\n",
       "      <th>2</th>\n",
       "      <td>3</td>\n",
       "      <td>United Kingdom</td>\n",
       "      <td>65808573</td>\n",
       "      <td>12.86</td>\n",
       "      <td>0.65</td>\n",
       "      <td>428793</td>\n",
       "      <td>65648100</td>\n",
       "      <td>2017-06-30</td>\n",
       "      <td>Official estimate</td>\n",
       "    </tr>\n",
       "  </tbody>\n",
       "</table>\n",
       "</div>"
      ],
      "text/plain": [
       "   Rank         Country  2017 population  % of pop.  \\\n",
       "0     1        Germany          82800000      16.18   \n",
       "1     2          France         67210459      13.10   \n",
       "2     3  United Kingdom         65808573      12.86   \n",
       "\n",
       "   Average relative annual growth  Average absolute annual growth  \\\n",
       "0                            0.76                          628876   \n",
       "1                            0.40                          265557   \n",
       "2                            0.65                          428793   \n",
       "\n",
       "   Official figure Date of last figure                     Source  \n",
       "0         82576900          2017-03-31          Official estimate  \n",
       "1         67174000          2018-01-01  Monthly official estimate  \n",
       "2         65648100          2017-06-30          Official estimate  "
      ]
     },
     "execution_count": 85,
     "metadata": {},
     "output_type": "execute_result"
    }
   ],
   "source": [
    "eu.head(3)"
   ]
  },
  {
   "cell_type": "code",
   "execution_count": null,
   "id": "89ed4df1",
   "metadata": {},
   "outputs": [],
   "source": []
  }
 ],
 "metadata": {
  "kernelspec": {
   "display_name": "base",
   "language": "python",
   "name": "python3"
  },
  "language_info": {
   "codemirror_mode": {
    "name": "ipython",
    "version": 3
   },
   "file_extension": ".py",
   "mimetype": "text/x-python",
   "name": "python",
   "nbconvert_exporter": "python",
   "pygments_lexer": "ipython3",
   "version": "3.12.7"
  }
 },
 "nbformat": 4,
 "nbformat_minor": 5
}
